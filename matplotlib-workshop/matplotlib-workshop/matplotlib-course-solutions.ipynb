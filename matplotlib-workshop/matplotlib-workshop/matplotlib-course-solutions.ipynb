{
 "cells": [
  {
   "cell_type": "code",
   "execution_count": null,
   "id": "b2559c5e",
   "metadata": {},
   "outputs": [],
   "source": [
    "from matplotlib import pyplot as plt"
   ]
  },
  {
   "cell_type": "markdown",
   "id": "b776e4d9",
   "metadata": {},
   "source": [
    "# **Exercise 1**"
   ]
  },
  {
   "cell_type": "code",
   "execution_count": null,
   "id": "02c7980c",
   "metadata": {},
   "outputs": [],
   "source": [
    "## YOUR SOLUTION HERE ##\n",
    "\n",
    "# import pandas\n",
    "import pandas as pd\n",
    "\n",
    "df = pd.read_csv('restaurant_data.csv')\n",
    "df.head()"
   ]
  },
  {
   "cell_type": "code",
   "execution_count": null,
   "id": "a98a1918",
   "metadata": {},
   "outputs": [],
   "source": [
    "# make a line chart with columns from a dataframe\n",
    "plt.plot(df.day, df.sales_totals)\n",
    "# or\n",
    "plt.plot(df['day'], df['sales_totals'])\n",
    "\n",
    "plt.show()"
   ]
  },
  {
   "cell_type": "markdown",
   "id": "e8f5cc6e",
   "metadata": {},
   "source": [
    "# **Exercise 2**"
   ]
  },
  {
   "cell_type": "code",
   "execution_count": null,
   "id": "f9186f21",
   "metadata": {},
   "outputs": [],
   "source": [
    "data = pd.read_csv(\"2020-monthly-avg-temps-f.csv\")\n",
    "\n",
    "## YOUR SOLUTION HERE ##\n",
    "plt.plot(data.month_name, data.alice_springs_avg_high, color='green', linestyle='dotted', label='Alice Springs')\n",
    "plt.plot(data.month_name, data.windhoek_avg_high, color='green', linestyle='dashed', label='Windhoek')\n",
    "plt.plot(data.month_name, data.quito_avg_high, color='steelblue', linewidth=2.5, label='Quito')\n",
    "plt.plot(data.month_name, data.samarqand_avg_high, color='darkorange', linestyle='dotted', label='Samarqand')\n",
    "plt.plot(data.month_name, data.london_avg_high, color='darkorange', linestyle='dashed', label='London')\n",
    "plt.plot(data.month_name, data.kodiak_avg_high, color='darkorange', linestyle='solid', label='Kodiak')\n",
    "plt.title('Average High Temps Around the World, 2020', size=16)\n",
    "plt.legend(bbox_to_anchor = (1, .75))\n",
    "plt.ylabel('Temperature (F)', size=14)\n",
    "plt.xlabel('Month', size=14)\n",
    "plt.xticks(rotation=45)\n",
    "plt.savefig('test.png',  dpi=128, bbox_inches='tight')"
   ]
  },
  {
   "cell_type": "markdown",
   "id": "21b8ec4a",
   "metadata": {},
   "source": [
    "# **Exercise 3**"
   ]
  },
  {
   "cell_type": "code",
   "execution_count": null,
   "id": "a8637264",
   "metadata": {},
   "outputs": [],
   "source": [
    "## YOUR SOLUTION HERE ##\n",
    "\n",
    "bar_data = pd.read_csv('plant_data_simplified.csv')\n",
    "\n",
    "plt.bar(x=bar_data.PH, height=bar_data.average_leaf_width, color='green', width=0.8, align='center')\n",
    "plt.title('Effect of soil pH on plant growth')\n",
    "plt.ylabel('Leaf width')\n",
    "plt.xlabel('pH')\n",
    "plt.show()"
   ]
  },
  {
   "cell_type": "markdown",
   "id": "9eaccac6",
   "metadata": {},
   "source": [
    "# **Exercise 4**"
   ]
  },
  {
   "cell_type": "code",
   "execution_count": null,
   "id": "1603d6d9",
   "metadata": {},
   "outputs": [],
   "source": [
    "## YOUR SOLUTION HERE ##\n",
    "\n",
    "bar_data = pd.read_csv('plant_data_simplified.csv')\n",
    "\n",
    "plt.bar(bar_data.PH, bar_data.average_leaf_width, color='green', width=0.8, align='center')\n",
    "plt.title('Effect of soil pH on plant growth')\n",
    "plt.ylabel('Leaf width')\n",
    "plt.xlabel('pH')\n",
    "plt.errorbar(bar_data.PH, bar_data.average_leaf_width, yerr = bar_data.error, fmt = 'o', color = 'orangered', capsize=6)\n",
    "plt.show()"
   ]
  },
  {
   "cell_type": "markdown",
   "id": "064d35e5",
   "metadata": {},
   "source": [
    "# **Exercise 5**"
   ]
  },
  {
   "cell_type": "code",
   "execution_count": null,
   "id": "a644b0b6",
   "metadata": {},
   "outputs": [],
   "source": [
    "## YOUR SOLUTION HERE ##\n",
    "\n",
    "scatter_data = pd.read_csv('spotify_data_by_genres.csv')\n",
    "plt.scatter(scatter_data.danceability, scatter_data.valence, alpha=0.25,c='purple')\n",
    "plt.title('Mood and Danceability correlation in Spotify genres')\n",
    "plt.xlabel('Danceability')\n",
    "plt.ylabel('Valence / Mood (sadder to happier)')\n",
    "plt.show()"
   ]
  },
  {
   "cell_type": "markdown",
   "id": "11230a46",
   "metadata": {},
   "source": [
    "# **Exercise 6**"
   ]
  },
  {
   "cell_type": "code",
   "execution_count": null,
   "id": "bd498786",
   "metadata": {},
   "outputs": [],
   "source": [
    "pie_data = pd.read_csv('EV_market_share.csv')\n",
    "\n",
    "## YOUR SOLUTION HERE ##\n",
    "plt.pie(pie_data.number_sold, labels=pie_data.model, startangle=60)\n",
    "plt.title('Top 10 EVs sold in the US by count, 2021')\n",
    "plt.show()"
   ]
  },
  {
   "cell_type": "markdown",
   "id": "041b5a35",
   "metadata": {},
   "source": [
    "# **Exercise 7**"
   ]
  },
  {
   "cell_type": "code",
   "execution_count": null,
   "id": "85efc363",
   "metadata": {},
   "outputs": [],
   "source": [
    "hist_data = pd.read_csv('lobster_dist.csv')\n",
    "\n",
    "## YOUR SOLUTION HERE ##\n",
    "plt.hist(hist_data.carapace_length, bins=15, range=(75,155), color='gold')\n",
    "plt.title('Lobsters tagged by size')\n",
    "plt.ylabel('Number tagged')\n",
    "plt.xlabel('Carapace length (mm)')\n",
    "plt.show()"
   ]
  },
  {
   "cell_type": "markdown",
   "id": "1d955267",
   "metadata": {},
   "source": [
    "# **Exercise 8**"
   ]
  },
  {
   "cell_type": "code",
   "execution_count": null,
   "id": "1e44e1f3",
   "metadata": {},
   "outputs": [],
   "source": [
    "plt.hist(hist_data.carapace_length, bins=30, range=(75,155), color='gold')\n",
    "plt.title('Lobsters tagged by size')\n",
    "plt.ylabel('Number tagged')\n",
    "plt.xlabel('Carapace length (mm)')\n",
    "plt.axvline(83, linewidth=2, dashes=(1,2), color='mediumblue')\n",
    "plt.axvline(127, linewidth=2, dashes=(1,2), color='mediumblue')\n",
    "plt.annotate('Minimum legal catch size', (84, 23), color='mediumblue')\n",
    "plt.annotate('Maximum legal\\ncatchsize', (128, 7), color='mediumblue')\n",
    "plt.show()"
   ]
  }
 ],
 "metadata": {
  "kernelspec": {
   "display_name": "Python 3 (ipykernel)",
   "language": "python",
   "name": "python3"
  },
  "language_info": {
   "codemirror_mode": {
    "name": "ipython",
    "version": 3
   },
   "file_extension": ".py",
   "mimetype": "text/x-python",
   "name": "python",
   "nbconvert_exporter": "python",
   "pygments_lexer": "ipython3",
   "version": "3.9.13"
  }
 },
 "nbformat": 4,
 "nbformat_minor": 5
}
