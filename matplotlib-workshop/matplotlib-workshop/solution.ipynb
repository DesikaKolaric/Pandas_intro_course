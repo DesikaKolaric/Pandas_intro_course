{
 "cells": [
  {
   "cell_type": "markdown",
   "id": "6d836087",
   "metadata": {},
   "source": [
    "**Exercise:**\n",
    "\n",
    "1. Load the data from the *garden_data.csv* file into a Pandas DataFrame.\n",
    "2. Explore the data by displaying the first few rows, checking the data types of each column and the number of rows.\n",
    "3. Remove any rows with outliers in the \"Temperature\" column. You can consider values below 0°C and above 40°C as outliers. Check the number of rows again.\n",
    "4. Calculate the total rainfall for the month and the average daily temperature.\n",
    "5. Create a line plot using Matplotlib to visualize the daily temperature trends over the month. Save the plot.\n",
    "6. Create a bar chart to show the total rainfall for each day.\n",
    "7. Print the date when Alice's tallest flower reached 74 cm."
   ]
  },
  {
   "cell_type": "code",
   "execution_count": null,
   "id": "8dbc23a0",
   "metadata": {},
   "outputs": [],
   "source": [
    "import pandas as pd\n",
    "import matplotlib.pyplot as plt"
   ]
  },
  {
   "cell_type": "code",
   "execution_count": null,
   "id": "6e45ba87",
   "metadata": {},
   "outputs": [],
   "source": [
    "# Step 1: Load the data from the CSV file into a Pandas DataFrame\n",
    "data = pd.read_csv(\"garden_data.csv\")"
   ]
  },
  {
   "cell_type": "code",
   "execution_count": null,
   "id": "b6b046a7",
   "metadata": {},
   "outputs": [],
   "source": [
    "# Step 2: Explore the data\n",
    "print(\"First few rows of the DataFrame:\")\n",
    "print(data.head())\n",
    "print(\"\\nData types of each column:\")\n",
    "print(data.dtypes)"
   ]
  },
  {
   "cell_type": "code",
   "execution_count": null,
   "id": "a739483c",
   "metadata": {},
   "outputs": [],
   "source": [
    "len(data)"
   ]
  },
  {
   "cell_type": "code",
   "execution_count": null,
   "id": "c9cc534e",
   "metadata": {},
   "outputs": [],
   "source": [
    "# Step 3: Remove rows with temperature outliers\n",
    "data = data[(data[\"Temperature (C)\"] >= 0) & (data[\"Temperature (C)\"] <= 40)]"
   ]
  },
  {
   "cell_type": "code",
   "execution_count": null,
   "id": "af357789",
   "metadata": {},
   "outputs": [],
   "source": [
    "len(data)"
   ]
  },
  {
   "cell_type": "code",
   "execution_count": null,
   "id": "e6cf79e0",
   "metadata": {},
   "outputs": [],
   "source": [
    "# Step 4: Calculate total rainfall and average daily temperature\n",
    "total_rainfall = data[\"Rainfall (mm)\"].sum()\n",
    "average_temperature = data[\"Temperature (C)\"].mean()\n",
    "print(\"\\nTotal Rainfall for the month:\", total_rainfall, \"mm\")\n",
    "print(\"Average Daily Temperature:\", round(average_temperature,1), \"°C\")"
   ]
  },
  {
   "cell_type": "code",
   "execution_count": null,
   "id": "a378703f",
   "metadata": {},
   "outputs": [],
   "source": [
    "# Step 5: Create a line plot for daily temperature trends\n",
    "plt.figure(figsize=(10, 5))\n",
    "plt.plot(data[\"Date\"], data[\"Temperature (C)\"], marker='o', linestyle='-',color='mediumvioletred')\n",
    "plt.title(\"Daily Temperature Trends\",size=16)\n",
    "plt.xlabel(\"Date\",size=14)\n",
    "plt.ylabel(\"Temperature (°C)\",size=14)\n",
    "plt.xticks(rotation=45)\n",
    "plt.grid(True)\n",
    "plt.show()"
   ]
  },
  {
   "cell_type": "code",
   "execution_count": null,
   "id": "c4cb6916",
   "metadata": {},
   "outputs": [],
   "source": [
    "# Step 6: Create a bar chart for total daily rainfall\n",
    "plt.figure(figsize=(10, 5))\n",
    "plt.bar(data[\"Date\"], data[\"Rainfall (mm)\"],color='mediumvioletred')\n",
    "plt.title(\"Total Daily Rainfall\")\n",
    "plt.xlabel(\"Date\")\n",
    "plt.ylabel(\"Rainfall (mm)\")\n",
    "plt.xticks(rotation=45)\n",
    "plt.grid(axis=\"y\")\n",
    "plt.show()"
   ]
  },
  {
   "cell_type": "code",
   "execution_count": null,
   "id": "f3434b48",
   "metadata": {},
   "outputs": [],
   "source": [
    "# Step 7: Print the date when Alice's tallest flower reached 74 cm.\n",
    "\n",
    "desired_height = 74\n",
    "filtered_data = data[data[\"Tallest Flower Height (cm)\"] >= desired_height]\n",
    "\n",
    "if not filtered_data.empty:\n",
    "    # Get the date when the tallest flower reached 74 cm\n",
    "    date_reached_74cm = filtered_data.iloc[0][\"Date\"]\n",
    "    print(f\"The tallest flower reached 74 cm on {date_reached_74cm}.\")\n",
    "else:\n",
    "    print(\"The tallest flower did not reach 74 cm during the recorded period.\")"
   ]
  },
  {
   "cell_type": "markdown",
   "id": "3e5e0899",
   "metadata": {},
   "source": [
    "*`.iloc[0]` is used to retrieve the first row of the `filtered_data` DataFrame.*"
   ]
  }
 ],
 "metadata": {
  "kernelspec": {
   "display_name": "Python 3 (ipykernel)",
   "language": "python",
   "name": "python3"
  },
  "language_info": {
   "codemirror_mode": {
    "name": "ipython",
    "version": 3
   },
   "file_extension": ".py",
   "mimetype": "text/x-python",
   "name": "python",
   "nbconvert_exporter": "python",
   "pygments_lexer": "ipython3",
   "version": "3.9.13"
  }
 },
 "nbformat": 4,
 "nbformat_minor": 5
}
